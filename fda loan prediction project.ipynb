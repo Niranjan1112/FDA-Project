{
 "cells": [
  {
   "cell_type": "code",
   "execution_count": 1,
   "id": "97d2afb3",
   "metadata": {},
   "outputs": [],
   "source": [
    "# Niranjan J 19MIA1003"
   ]
  },
  {
   "cell_type": "code",
   "execution_count": 89,
   "id": "17c1a056",
   "metadata": {},
   "outputs": [],
   "source": [
    "import pandas as pd\n",
    "import csv\n",
    "from sklearn.impute import SimpleImputer\n",
    "from sklearn.preprocessing import OrdinalEncoder\n",
    "from sklearn.model_selection import train_test_split\n",
    "from sklearn.tree import DecisionTreeClassifier\n",
    "from sklearn.ensemble import RandomForestClassifier\n",
    "from sklearn.naive_bayes import MultinomialNB, GaussianNB, BernoulliNB, CategoricalNB\n",
    "from sklearn.metrics import classification_report\n",
    "from sklearn.metrics import confusion_matrix"
   ]
  },
  {
   "cell_type": "code",
   "execution_count": 10,
   "id": "22bea92c",
   "metadata": {},
   "outputs": [],
   "source": [
    "train = pd.read_csv(\"train.csv\")\n",
    "test = pd.read_csv(\"test.csv\")"
   ]
  },
  {
   "cell_type": "markdown",
   "id": "e4766153",
   "metadata": {},
   "source": [
    "TRAINING DATA"
   ]
  },
  {
   "cell_type": "code",
   "execution_count": 11,
   "id": "d1f3fabe",
   "metadata": {},
   "outputs": [
    {
     "name": "stdout",
     "output_type": "stream",
     "text": [
      "    Loan_ID Gender Married Dependents     Education Self_Employed  \\\n",
      "0  LP001002   Male      No          0      Graduate            No   \n",
      "1  LP001003   Male     Yes          1      Graduate            No   \n",
      "2  LP001005   Male     Yes          0      Graduate           Yes   \n",
      "3  LP001006   Male     Yes          0  Not Graduate            No   \n",
      "4  LP001008   Male      No          0      Graduate            No   \n",
      "\n",
      "   ApplicantIncome  CoapplicantIncome  LoanAmount  Loan_Amount_Term  \\\n",
      "0             5849                0.0         NaN             360.0   \n",
      "1             4583             1508.0       128.0             360.0   \n",
      "2             3000                0.0        66.0             360.0   \n",
      "3             2583             2358.0       120.0             360.0   \n",
      "4             6000                0.0       141.0             360.0   \n",
      "\n",
      "   Credit_History Property_Area Loan_Status  \n",
      "0             1.0         Urban           Y  \n",
      "1             1.0         Rural           N  \n",
      "2             1.0         Urban           Y  \n",
      "3             1.0         Urban           Y  \n",
      "4             1.0         Urban           Y  \n"
     ]
    }
   ],
   "source": [
    "print(train.head())"
   ]
  },
  {
   "cell_type": "code",
   "execution_count": 12,
   "id": "f6021348",
   "metadata": {},
   "outputs": [
    {
     "name": "stdout",
     "output_type": "stream",
     "text": [
      "Loan_ID               0\n",
      "Gender               13\n",
      "Married               3\n",
      "Dependents           15\n",
      "Education             0\n",
      "Self_Employed        32\n",
      "ApplicantIncome       0\n",
      "CoapplicantIncome     0\n",
      "LoanAmount           22\n",
      "Loan_Amount_Term     14\n",
      "Credit_History       50\n",
      "Property_Area         0\n",
      "Loan_Status           0\n",
      "dtype: int64\n"
     ]
    }
   ],
   "source": [
    "print(train.isnull().sum())   # finding missing values"
   ]
  },
  {
   "cell_type": "code",
   "execution_count": 13,
   "id": "b43d7c59",
   "metadata": {},
   "outputs": [
    {
     "name": "stdout",
     "output_type": "stream",
     "text": [
      "['Male' 'Female' nan]\n"
     ]
    }
   ],
   "source": [
    "print(train['Gender'].unique())"
   ]
  },
  {
   "cell_type": "code",
   "execution_count": 14,
   "id": "cc1cf518",
   "metadata": {},
   "outputs": [
    {
     "name": "stdout",
     "output_type": "stream",
     "text": [
      "['0' '1' '2' '3+' nan]\n"
     ]
    }
   ],
   "source": [
    "print(train['Dependents'].unique())"
   ]
  },
  {
   "cell_type": "code",
   "execution_count": 15,
   "id": "e77ecc95",
   "metadata": {},
   "outputs": [
    {
     "name": "stdout",
     "output_type": "stream",
     "text": [
      "['Graduate' 'Not Graduate']\n"
     ]
    }
   ],
   "source": [
    "print(train['Education'].unique())"
   ]
  },
  {
   "cell_type": "code",
   "execution_count": 16,
   "id": "3666f124",
   "metadata": {},
   "outputs": [
    {
     "name": "stdout",
     "output_type": "stream",
     "text": [
      "['No' 'Yes' nan]\n"
     ]
    }
   ],
   "source": [
    "print(train['Self_Employed'].unique())"
   ]
  },
  {
   "cell_type": "code",
   "execution_count": 17,
   "id": "815c7536",
   "metadata": {},
   "outputs": [
    {
     "name": "stdout",
     "output_type": "stream",
     "text": [
      "['Urban' 'Rural' 'Semiurban']\n"
     ]
    }
   ],
   "source": [
    "print(train['Property_Area'].unique())"
   ]
  },
  {
   "cell_type": "code",
   "execution_count": 18,
   "id": "4f395907",
   "metadata": {},
   "outputs": [],
   "source": [
    "encoder = OrdinalEncoder()\n",
    "df = train.copy()\n",
    "cate = ['Dependents']\n",
    "df[cate] = encoder.fit_transform(train[cate])\n",
    "Dependents = df[cate]"
   ]
  },
  {
   "cell_type": "code",
   "execution_count": 19,
   "id": "e6872e0c",
   "metadata": {},
   "outputs": [],
   "source": [
    "imputer = SimpleImputer()\n",
    "depn = Dependents.copy()\n",
    "depn = pd.DataFrame(imputer.fit_transform(Dependents))"
   ]
  },
  {
   "cell_type": "code",
   "execution_count": 20,
   "id": "1efe5a73",
   "metadata": {},
   "outputs": [],
   "source": [
    "train['Dependents'] = depn\n",
    "#print(train)"
   ]
  },
  {
   "cell_type": "code",
   "execution_count": 21,
   "id": "8b45de7c",
   "metadata": {},
   "outputs": [],
   "source": [
    "X = train.copy()\n",
    "X = X.drop(['Loan_ID', 'Loan_Status'], axis=1)       # dropping columns"
   ]
  },
  {
   "cell_type": "code",
   "execution_count": 22,
   "id": "b591fcd7",
   "metadata": {},
   "outputs": [
    {
     "name": "stdout",
     "output_type": "stream",
     "text": [
      "Categorical Variables :  ['Gender', 'Married', 'Education', 'Self_Employed', 'Property_Area']\n"
     ]
    }
   ],
   "source": [
    "cate_col = (X.dtypes == 'object')\n",
    "cate_col = list(cate_col[cate_col].index)\n",
    "print(\"Categorical Variables : \", cate_col)"
   ]
  },
  {
   "cell_type": "code",
   "execution_count": 23,
   "id": "ac1ae075",
   "metadata": {},
   "outputs": [],
   "source": [
    "X[cate_col] = encoder.fit_transform(df[cate_col])\n",
    "#print(X)"
   ]
  },
  {
   "cell_type": "code",
   "execution_count": 24,
   "id": "651cab4d",
   "metadata": {},
   "outputs": [],
   "source": [
    "X_prep = X.copy()\n",
    "X_prep = pd.DataFrame(imputer.fit_transform(X))\n",
    "X_prep.columns = X.columns\n",
    "#print(X_prep)                   # preprocessed X - features"
   ]
  },
  {
   "cell_type": "code",
   "execution_count": 25,
   "id": "3b4808d3",
   "metadata": {},
   "outputs": [],
   "source": [
    "df2 = train.copy()\n",
    "cate2 = ['Loan_Status']\n",
    "df2[cate2] = encoder.fit_transform(train[cate2])\n",
    "y_prep = df2[cate2].copy()"
   ]
  },
  {
   "cell_type": "code",
   "execution_count": 26,
   "id": "0957b11f",
   "metadata": {},
   "outputs": [],
   "source": [
    "#print(y_prep)"
   ]
  },
  {
   "cell_type": "markdown",
   "id": "fec84957",
   "metadata": {},
   "source": [
    "TEST DATA"
   ]
  },
  {
   "cell_type": "code",
   "execution_count": 27,
   "id": "a6499e62",
   "metadata": {},
   "outputs": [
    {
     "name": "stdout",
     "output_type": "stream",
     "text": [
      "    Loan_ID Gender Married Dependents     Education Self_Employed  \\\n",
      "0  LP001015   Male     Yes          0      Graduate            No   \n",
      "1  LP001022   Male     Yes          1      Graduate            No   \n",
      "2  LP001031   Male     Yes          2      Graduate            No   \n",
      "3  LP001035   Male     Yes          2      Graduate            No   \n",
      "4  LP001051   Male      No          0  Not Graduate            No   \n",
      "\n",
      "   ApplicantIncome  CoapplicantIncome  LoanAmount  Loan_Amount_Term  \\\n",
      "0             5720                  0       110.0             360.0   \n",
      "1             3076               1500       126.0             360.0   \n",
      "2             5000               1800       208.0             360.0   \n",
      "3             2340               2546       100.0             360.0   \n",
      "4             3276                  0        78.0             360.0   \n",
      "\n",
      "   Credit_History Property_Area  \n",
      "0             1.0         Urban  \n",
      "1             1.0         Urban  \n",
      "2             1.0         Urban  \n",
      "3             NaN         Urban  \n",
      "4             1.0         Urban  \n"
     ]
    }
   ],
   "source": [
    "print(test.head())"
   ]
  },
  {
   "cell_type": "code",
   "execution_count": 28,
   "id": "0cc60482",
   "metadata": {},
   "outputs": [
    {
     "name": "stdout",
     "output_type": "stream",
     "text": [
      "Loan_ID               0\n",
      "Gender               11\n",
      "Married               0\n",
      "Dependents           10\n",
      "Education             0\n",
      "Self_Employed        23\n",
      "ApplicantIncome       0\n",
      "CoapplicantIncome     0\n",
      "LoanAmount            5\n",
      "Loan_Amount_Term      6\n",
      "Credit_History       29\n",
      "Property_Area         0\n",
      "dtype: int64\n"
     ]
    }
   ],
   "source": [
    "print(test.isnull().sum())"
   ]
  },
  {
   "cell_type": "code",
   "execution_count": 29,
   "id": "c889bf72",
   "metadata": {},
   "outputs": [
    {
     "name": "stdout",
     "output_type": "stream",
     "text": [
      "['Male' 'Female' nan]\n"
     ]
    }
   ],
   "source": [
    "print(test['Gender'].unique())"
   ]
  },
  {
   "cell_type": "code",
   "execution_count": 30,
   "id": "eea98398",
   "metadata": {},
   "outputs": [
    {
     "name": "stdout",
     "output_type": "stream",
     "text": [
      "['0' '1' '2' '3+' nan]\n"
     ]
    }
   ],
   "source": [
    "print(test['Dependents'].unique())"
   ]
  },
  {
   "cell_type": "code",
   "execution_count": 31,
   "id": "75b2f35e",
   "metadata": {},
   "outputs": [
    {
     "name": "stdout",
     "output_type": "stream",
     "text": [
      "['Graduate' 'Not Graduate']\n"
     ]
    }
   ],
   "source": [
    "print(test['Education'].unique())"
   ]
  },
  {
   "cell_type": "code",
   "execution_count": 32,
   "id": "cfdbdb81",
   "metadata": {},
   "outputs": [
    {
     "name": "stdout",
     "output_type": "stream",
     "text": [
      "['No' 'Yes' nan]\n"
     ]
    }
   ],
   "source": [
    "print(test['Self_Employed'].unique())"
   ]
  },
  {
   "cell_type": "code",
   "execution_count": 33,
   "id": "fc3bcf55",
   "metadata": {},
   "outputs": [
    {
     "name": "stdout",
     "output_type": "stream",
     "text": [
      "['Urban' 'Semiurban' 'Rural']\n"
     ]
    }
   ],
   "source": [
    "print(test['Property_Area'].unique())"
   ]
  },
  {
   "cell_type": "code",
   "execution_count": 34,
   "id": "d0f30348",
   "metadata": {},
   "outputs": [],
   "source": [
    "encoder = OrdinalEncoder()\n",
    "df3 = test.copy()\n",
    "cate = ['Dependents']\n",
    "df3[cate] = encoder.fit_transform(test[cate])\n",
    "Dependents2 = df3[cate]"
   ]
  },
  {
   "cell_type": "code",
   "execution_count": 35,
   "id": "30980510",
   "metadata": {},
   "outputs": [],
   "source": [
    "imputer = SimpleImputer()\n",
    "depn2 = Dependents2.copy()\n",
    "depn2 = pd.DataFrame(imputer.fit_transform(Dependents2))"
   ]
  },
  {
   "cell_type": "code",
   "execution_count": 36,
   "id": "fdbc350d",
   "metadata": {},
   "outputs": [],
   "source": [
    "test['Dependents'] = depn2\n",
    "#print(test)"
   ]
  },
  {
   "cell_type": "code",
   "execution_count": 37,
   "id": "6ff20462",
   "metadata": {},
   "outputs": [],
   "source": [
    "X2 = test.copy()\n",
    "X2 = X2.drop(['Loan_ID'], axis=1)       # dropping columns\n",
    "#print(X2)"
   ]
  },
  {
   "cell_type": "code",
   "execution_count": 38,
   "id": "749ac141",
   "metadata": {},
   "outputs": [],
   "source": [
    "X2[cate_col] = encoder.fit_transform(df3[cate_col])\n",
    "#print(X2)"
   ]
  },
  {
   "cell_type": "code",
   "execution_count": 39,
   "id": "2c6ea10c",
   "metadata": {},
   "outputs": [],
   "source": [
    "X_test_prep = X2.copy()\n",
    "X_test_prep = pd.DataFrame(imputer.fit_transform(X2))\n",
    "X_test_prep.columns = X2.columns\n",
    "#print(X_test_prep)                   # preprocessed X - features"
   ]
  },
  {
   "cell_type": "markdown",
   "id": "8a14b377",
   "metadata": {},
   "source": [
    "PREPROCESSED DATA"
   ]
  },
  {
   "cell_type": "code",
   "execution_count": 40,
   "id": "3095eb0a",
   "metadata": {},
   "outputs": [
    {
     "name": "stdout",
     "output_type": "stream",
     "text": [
      "     Gender  Married  Dependents  Education  Self_Employed  ApplicantIncome  \\\n",
      "0       1.0      0.0         0.0        0.0            0.0           5849.0   \n",
      "1       1.0      1.0         1.0        0.0            0.0           4583.0   \n",
      "2       1.0      1.0         0.0        0.0            1.0           3000.0   \n",
      "3       1.0      1.0         0.0        1.0            0.0           2583.0   \n",
      "4       1.0      0.0         0.0        0.0            0.0           6000.0   \n",
      "..      ...      ...         ...        ...            ...              ...   \n",
      "609     0.0      0.0         0.0        0.0            0.0           2900.0   \n",
      "610     1.0      1.0         3.0        0.0            0.0           4106.0   \n",
      "611     1.0      1.0         1.0        0.0            0.0           8072.0   \n",
      "612     1.0      1.0         2.0        0.0            0.0           7583.0   \n",
      "613     0.0      0.0         0.0        0.0            1.0           4583.0   \n",
      "\n",
      "     CoapplicantIncome  LoanAmount  Loan_Amount_Term  Credit_History  \\\n",
      "0                  0.0  146.412162             360.0             1.0   \n",
      "1               1508.0  128.000000             360.0             1.0   \n",
      "2                  0.0   66.000000             360.0             1.0   \n",
      "3               2358.0  120.000000             360.0             1.0   \n",
      "4                  0.0  141.000000             360.0             1.0   \n",
      "..                 ...         ...               ...             ...   \n",
      "609                0.0   71.000000             360.0             1.0   \n",
      "610                0.0   40.000000             180.0             1.0   \n",
      "611              240.0  253.000000             360.0             1.0   \n",
      "612                0.0  187.000000             360.0             1.0   \n",
      "613                0.0  133.000000             360.0             0.0   \n",
      "\n",
      "     Property_Area  \n",
      "0              2.0  \n",
      "1              0.0  \n",
      "2              2.0  \n",
      "3              2.0  \n",
      "4              2.0  \n",
      "..             ...  \n",
      "609            0.0  \n",
      "610            0.0  \n",
      "611            2.0  \n",
      "612            2.0  \n",
      "613            1.0  \n",
      "\n",
      "[614 rows x 11 columns]\n"
     ]
    }
   ],
   "source": [
    "print(X_prep)"
   ]
  },
  {
   "cell_type": "code",
   "execution_count": 41,
   "id": "89b80aa6",
   "metadata": {},
   "outputs": [
    {
     "name": "stdout",
     "output_type": "stream",
     "text": [
      "     Loan_Status\n",
      "0            1.0\n",
      "1            0.0\n",
      "2            1.0\n",
      "3            1.0\n",
      "4            1.0\n",
      "..           ...\n",
      "609          1.0\n",
      "610          1.0\n",
      "611          1.0\n",
      "612          1.0\n",
      "613          0.0\n",
      "\n",
      "[614 rows x 1 columns]\n"
     ]
    }
   ],
   "source": [
    "print(y_prep)"
   ]
  },
  {
   "cell_type": "code",
   "execution_count": 42,
   "id": "9cb2372a",
   "metadata": {},
   "outputs": [
    {
     "name": "stdout",
     "output_type": "stream",
     "text": [
      "     Gender  Married  Dependents  Education  Self_Employed  ApplicantIncome  \\\n",
      "0       1.0      1.0         0.0        0.0            0.0           5720.0   \n",
      "1       1.0      1.0         1.0        0.0            0.0           3076.0   \n",
      "2       1.0      1.0         2.0        0.0            0.0           5000.0   \n",
      "3       1.0      1.0         2.0        0.0            0.0           2340.0   \n",
      "4       1.0      0.0         0.0        1.0            0.0           3276.0   \n",
      "..      ...      ...         ...        ...            ...              ...   \n",
      "362     1.0      1.0         3.0        1.0            1.0           4009.0   \n",
      "363     1.0      1.0         0.0        0.0            0.0           4158.0   \n",
      "364     1.0      0.0         0.0        0.0            0.0           3250.0   \n",
      "365     1.0      1.0         0.0        0.0            0.0           5000.0   \n",
      "366     1.0      0.0         0.0        0.0            1.0           9200.0   \n",
      "\n",
      "     CoapplicantIncome  LoanAmount  Loan_Amount_Term  Credit_History  \\\n",
      "0                  0.0       110.0             360.0        1.000000   \n",
      "1               1500.0       126.0             360.0        1.000000   \n",
      "2               1800.0       208.0             360.0        1.000000   \n",
      "3               2546.0       100.0             360.0        0.825444   \n",
      "4                  0.0        78.0             360.0        1.000000   \n",
      "..                 ...         ...               ...             ...   \n",
      "362             1777.0       113.0             360.0        1.000000   \n",
      "363              709.0       115.0             360.0        1.000000   \n",
      "364             1993.0       126.0             360.0        0.825444   \n",
      "365             2393.0       158.0             360.0        1.000000   \n",
      "366                0.0        98.0             180.0        1.000000   \n",
      "\n",
      "     Property_Area  \n",
      "0              2.0  \n",
      "1              2.0  \n",
      "2              2.0  \n",
      "3              2.0  \n",
      "4              2.0  \n",
      "..             ...  \n",
      "362            2.0  \n",
      "363            2.0  \n",
      "364            1.0  \n",
      "365            0.0  \n",
      "366            0.0  \n",
      "\n",
      "[367 rows x 11 columns]\n"
     ]
    }
   ],
   "source": [
    "print(X_test_prep)"
   ]
  },
  {
   "cell_type": "markdown",
   "id": "624ae9a5",
   "metadata": {},
   "source": [
    "TRAINING DATA SPLIT"
   ]
  },
  {
   "cell_type": "code",
   "execution_count": 43,
   "id": "5b7d0d5f",
   "metadata": {},
   "outputs": [],
   "source": [
    "X_train, X_valid, y_train, y_valid = train_test_split(X_prep, y_prep, test_size=0.25, random_state=0)"
   ]
  },
  {
   "cell_type": "code",
   "execution_count": 44,
   "id": "37579a2c",
   "metadata": {},
   "outputs": [],
   "source": [
    "X_train.reset_index(inplace=True)             # resetting index\n",
    "X_train = X_train.drop('index', axis=1)       "
   ]
  },
  {
   "cell_type": "code",
   "execution_count": 45,
   "id": "60ab012f",
   "metadata": {},
   "outputs": [],
   "source": [
    "y_train.reset_index(inplace=True)\n",
    "y_train = y_train.drop('index', axis=1)       "
   ]
  },
  {
   "cell_type": "code",
   "execution_count": 46,
   "id": "2f99ce0d",
   "metadata": {},
   "outputs": [],
   "source": [
    "X_valid.reset_index(inplace=True)\n",
    "X_valid = X_valid.drop('index', axis=1)       "
   ]
  },
  {
   "cell_type": "code",
   "execution_count": 47,
   "id": "0c385fb3",
   "metadata": {},
   "outputs": [],
   "source": [
    "y_valid.reset_index(inplace=True)\n",
    "y_valid = y_valid.drop('index', axis=1)       "
   ]
  },
  {
   "cell_type": "code",
   "execution_count": 48,
   "id": "a0fb732c",
   "metadata": {},
   "outputs": [],
   "source": [
    "### NAIVE BAYES CLASSIFIER"
   ]
  },
  {
   "cell_type": "code",
   "execution_count": 49,
   "id": "6fa339cc",
   "metadata": {},
   "outputs": [],
   "source": [
    "model = GaussianNB()"
   ]
  },
  {
   "cell_type": "code",
   "execution_count": 50,
   "id": "611f077d",
   "metadata": {},
   "outputs": [
    {
     "name": "stdout",
     "output_type": "stream",
     "text": [
      "              precision    recall  f1-score   support\n",
      "\n",
      "         0.0       0.83      0.47      0.60        43\n",
      "         1.0       0.82      0.96      0.89       111\n",
      "\n",
      "    accuracy                           0.82       154\n",
      "   macro avg       0.83      0.71      0.74       154\n",
      "weighted avg       0.83      0.82      0.81       154\n",
      "\n"
     ]
    },
    {
     "name": "stderr",
     "output_type": "stream",
     "text": [
      "/home/niranjan/.local/lib/python3.8/site-packages/sklearn/utils/validation.py:1111: DataConversionWarning: A column-vector y was passed when a 1d array was expected. Please change the shape of y to (n_samples, ), for example using ravel().\n",
      "  y = column_or_1d(y, warn=True)\n"
     ]
    }
   ],
   "source": [
    "model.fit(X_train, y_train)\n",
    "pred = model.predict(X_valid)\n",
    "print(classification_report(y_valid, pred))"
   ]
  },
  {
   "cell_type": "code",
   "execution_count": 51,
   "id": "7c00bab3",
   "metadata": {},
   "outputs": [
    {
     "name": "stdout",
     "output_type": "stream",
     "text": [
      "    0    1\n",
      "0  20   23\n",
      "1   4  107\n"
     ]
    }
   ],
   "source": [
    "matrix = confusion_matrix(y_valid, pred)\n",
    "matrix_df = pd.DataFrame(matrix)\n",
    "print(matrix_df)"
   ]
  },
  {
   "cell_type": "markdown",
   "id": "012c56da",
   "metadata": {},
   "source": [
    "0 - No loan | \n",
    "1 - loan accepted"
   ]
  },
  {
   "cell_type": "code",
   "execution_count": 52,
   "id": "75af229a",
   "metadata": {},
   "outputs": [
    {
     "name": "stdout",
     "output_type": "stream",
     "text": [
      "[1. 1. 1. 1. 1. 1. 1. 0. 1. 1. 1. 1. 1. 0. 1. 1. 1. 1. 0. 1. 1. 1. 1. 1.\n",
      " 1. 0. 1. 1. 1. 1. 1. 1. 1. 1. 1. 0. 1. 1. 1. 1. 1. 1. 1. 1. 1. 1. 1. 1.\n",
      " 1. 1. 1. 1. 1. 1. 1. 0. 1. 1. 0. 1. 1. 1. 1. 0. 1. 1. 0. 0. 1. 0. 1. 1.\n",
      " 1. 1. 1. 1. 1. 1. 1. 1. 0. 0. 0. 1. 0. 0. 1. 1. 1. 1. 1. 1. 1. 1. 0. 1.\n",
      " 1. 1. 1. 1. 1. 0. 1. 1. 1. 1. 0. 1. 1. 1. 1. 1. 1. 1. 1. 1. 1. 0. 0. 0.\n",
      " 1. 1. 1. 0. 0. 1. 0. 1. 1. 1. 1. 1. 1. 1. 1. 1. 1. 1. 1. 1. 0. 1. 0. 1.\n",
      " 1. 1. 1. 0. 1. 1. 1. 1. 1. 0. 1. 1. 1. 1. 1. 1. 1. 0. 1. 1. 1. 0. 0. 1.\n",
      " 0. 1. 1. 1. 1. 0. 0. 1. 1. 1. 1. 1. 1. 1. 1. 1. 1. 1. 1. 1. 1. 1. 1. 1.\n",
      " 0. 0. 1. 1. 0. 1. 0. 1. 1. 1. 1. 1. 1. 1. 1. 1. 1. 1. 1. 0. 1. 1. 1. 1.\n",
      " 1. 1. 1. 1. 1. 1. 1. 1. 0. 1. 1. 1. 1. 0. 0. 1. 1. 1. 1. 0. 0. 0. 1. 1.\n",
      " 1. 0. 1. 0. 1. 0. 1. 1. 1. 1. 0. 1. 1. 1. 1. 0. 1. 1. 1. 1. 1. 1. 1. 1.\n",
      " 1. 1. 0. 1. 0. 1. 1. 1. 1. 0. 0. 1. 1. 1. 0. 1. 1. 1. 1. 1. 0. 1. 1. 1.\n",
      " 1. 1. 1. 1. 1. 0. 1. 1. 1. 1. 1. 1. 1. 0. 1. 1. 1. 1. 1. 1. 1. 1. 1. 0.\n",
      " 1. 1. 1. 1. 1. 0. 1. 1. 1. 1. 1. 1. 1. 0. 1. 1. 1. 1. 1. 1. 1. 1. 1. 1.\n",
      " 1. 1. 1. 0. 1. 1. 1. 1. 1. 1. 0. 1. 1. 1. 1. 0. 1. 1. 0. 1. 1. 1. 1. 1.\n",
      " 1. 1. 1. 1. 1. 1. 1.]\n"
     ]
    }
   ],
   "source": [
    "test_pred = model.predict(X_test_prep)\n",
    "print(test_pred)"
   ]
  },
  {
   "cell_type": "code",
   "execution_count": 53,
   "id": "d4f68c4a",
   "metadata": {},
   "outputs": [],
   "source": [
    "### RFC"
   ]
  },
  {
   "cell_type": "code",
   "execution_count": 67,
   "id": "41cc15f6",
   "metadata": {},
   "outputs": [],
   "source": [
    "model2 = RandomForestClassifier(n_estimators=100, criterion='entropy')"
   ]
  },
  {
   "cell_type": "code",
   "execution_count": 87,
   "id": "b7d0e126",
   "metadata": {},
   "outputs": [
    {
     "name": "stdout",
     "output_type": "stream",
     "text": [
      "              precision    recall  f1-score   support\n",
      "\n",
      "         0.0       0.81      0.49      0.61        43\n",
      "         1.0       0.83      0.95      0.89       111\n",
      "\n",
      "    accuracy                           0.82       154\n",
      "   macro avg       0.82      0.72      0.75       154\n",
      "weighted avg       0.82      0.82      0.81       154\n",
      "\n"
     ]
    },
    {
     "name": "stderr",
     "output_type": "stream",
     "text": [
      "/tmp/ipykernel_32460/669114507.py:1: DataConversionWarning: A column-vector y was passed when a 1d array was expected. Please change the shape of y to (n_samples,), for example using ravel().\n",
      "  model2.fit(X_train, y_train)\n"
     ]
    }
   ],
   "source": [
    "model2.fit(X_train, y_train)\n",
    "pred2 = model2.predict(X_valid)\n",
    "print(classification_report(y_valid, pred2))"
   ]
  },
  {
   "cell_type": "code",
   "execution_count": 88,
   "id": "5cdf9f61",
   "metadata": {},
   "outputs": [
    {
     "name": "stdout",
     "output_type": "stream",
     "text": [
      "    0    1\n",
      "0  21   22\n",
      "1   5  106\n"
     ]
    }
   ],
   "source": [
    "matrix = confusion_matrix(y_valid, pred2)\n",
    "matrix_df = pd.DataFrame(matrix)\n",
    "print(matrix_df)"
   ]
  },
  {
   "cell_type": "markdown",
   "id": "18f7c823",
   "metadata": {},
   "source": [
    "0 - No loan | \n",
    "1 - loan accepted"
   ]
  },
  {
   "cell_type": "code",
   "execution_count": 95,
   "id": "b511d517",
   "metadata": {},
   "outputs": [],
   "source": [
    "# Decision Tree"
   ]
  },
  {
   "cell_type": "code",
   "execution_count": 99,
   "id": "ad36790b",
   "metadata": {},
   "outputs": [],
   "source": [
    "model3 = DecisionTreeClassifier(criterion='gini', splitter='best', random_state=0)"
   ]
  },
  {
   "cell_type": "code",
   "execution_count": 107,
   "id": "2fe34df0",
   "metadata": {},
   "outputs": [
    {
     "name": "stdout",
     "output_type": "stream",
     "text": [
      "              precision    recall  f1-score   support\n",
      "\n",
      "         0.0       0.47      0.44      0.46        43\n",
      "         1.0       0.79      0.81      0.80       111\n",
      "\n",
      "    accuracy                           0.71       154\n",
      "   macro avg       0.63      0.63      0.63       154\n",
      "weighted avg       0.70      0.71      0.70       154\n",
      "\n"
     ]
    }
   ],
   "source": [
    "model3.fit(X_train, y_train)\n",
    "pred3 = model3.predict(X_valid)\n",
    "print(classification_report(y_valid, pred3))"
   ]
  },
  {
   "cell_type": "code",
   "execution_count": 108,
   "id": "e1d64939",
   "metadata": {},
   "outputs": [
    {
     "name": "stdout",
     "output_type": "stream",
     "text": [
      "    0   1\n",
      "0  19  24\n",
      "1  21  90\n"
     ]
    }
   ],
   "source": [
    "matrix = confusion_matrix(y_valid, pred3)\n",
    "matrix_df = pd.DataFrame(matrix)\n",
    "print(matrix_df)"
   ]
  }
 ],
 "metadata": {
  "kernelspec": {
   "display_name": "Python 3 (ipykernel)",
   "language": "python",
   "name": "python3"
  },
  "language_info": {
   "codemirror_mode": {
    "name": "ipython",
    "version": 3
   },
   "file_extension": ".py",
   "mimetype": "text/x-python",
   "name": "python",
   "nbconvert_exporter": "python",
   "pygments_lexer": "ipython3",
   "version": "3.8.10"
  }
 },
 "nbformat": 4,
 "nbformat_minor": 5
}
